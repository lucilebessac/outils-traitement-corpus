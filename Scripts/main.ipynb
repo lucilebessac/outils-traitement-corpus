{
 "cells": [
  {
   "cell_type": "markdown",
   "metadata": {},
   "source": [
    "Outils de traitement de Corpus"
   ]
  },
  {
   "cell_type": "code",
   "execution_count": 45,
   "metadata": {},
   "outputs": [],
   "source": [
    "import praw\n",
    "import os\n",
    "import glob\n",
    "import requests"
   ]
  },
  {
   "cell_type": "code",
   "execution_count": 46,
   "metadata": {},
   "outputs": [],
   "source": [
    "# Initialisation de praw (wrapper de l'API reddit)\n",
    "reddit = praw.Reddit(client_id=\"14JBbvpP01tPby97id6m4w\",\n",
    "                    client_secret=\"5ayqREao03PQKDMmxGTLtCVgaP6OcA\",\n",
    "                    user_agent=\"klmpost\")"
   ]
  },
  {
   "cell_type": "code",
   "execution_count": 47,
   "metadata": {},
   "outputs": [],
   "source": [
    "# Subreddit à scrapper\n",
    "subreddit_name = \"tumblr\"\n",
    "data_path = \"../Data/Raw/Images\"\n",
    "# Dossier de stockage des images\n",
    "if not os.path.exists(data_path):\n",
    "    os.makedirs(data_path)"
   ]
  },
  {
   "cell_type": "code",
   "execution_count": 48,
   "metadata": {},
   "outputs": [
    {
     "name": "stdout",
     "output_type": "stream",
     "text": [
      "En train de scrapper le subreddit : tumblr\n"
     ]
    },
    {
     "name": "stdout",
     "output_type": "stream",
     "text": [
      "Image du post 1cua1fn enregistrée dans le fichier 1cua1fn .jpg\n",
      "Image du post 1cu5vlr enregistrée dans le fichier 1cu5vlr .jpg\n",
      "Image du post 1cu1sah enregistrée dans le fichier 1cu1sah .jpg\n",
      "Image du post 1ctwhxb enregistrée dans le fichier 1ctwhxb .jpg\n",
      "Image du post 1ctusoc enregistrée dans le fichier 1ctusoc .jpg\n",
      "Image du post 1ctotdh enregistrée dans le fichier 1ctotdh .jpg\n",
      "Image du post 1ctjs8z enregistrée dans le fichier 1ctjs8z .jpg\n",
      "Image du post 1cti4eh enregistrée dans le fichier 1cti4eh .jpg\n",
      "Image du post 1ctdpbq enregistrée dans le fichier 1ctdpbq .jpg\n",
      "Image du post 1ct32gu enregistrée dans le fichier 1ct32gu .jpg\n",
      "Image du post 1cssauq enregistrée dans le fichier 1cssauq .jpg\n",
      "Image du post 1cssa3j enregistrée dans le fichier 1cssa3j .jpg\n",
      "Image du post 1cspq4m enregistrée dans le fichier 1cspq4m .jpg\n",
      "Image du post 1csk0ga enregistrée dans le fichier 1csk0ga .jpg\n",
      "Image du post 1csjqqk enregistrée dans le fichier 1csjqqk .jpg\n",
      "Image du post 1cse9gc enregistrée dans le fichier 1cse9gc .jpg\n",
      "Image du post 1cs4i1k enregistrée dans le fichier 1cs4i1k .jpg\n",
      "Image du post 1crt6gs enregistrée dans le fichier 1crt6gs .jpg\n",
      "Image du post 1crftq3 enregistrée dans le fichier 1crftq3 .jpg\n",
      "Image du post 1cr1dqv enregistrée dans le fichier 1cr1dqv .jpg\n",
      "Image du post 1cqze4n enregistrée dans le fichier 1cqze4n .jpg\n",
      "Image du post 1cqzcp6 enregistrée dans le fichier 1cqzcp6 .jpg\n",
      "Image du post 1cqrygv enregistrée dans le fichier 1cqrygv .jpg\n",
      "Image du post 1cqk03b enregistrée dans le fichier 1cqk03b .jpg\n",
      "Image du post 1cq4lql enregistrée dans le fichier 1cq4lql .jpg\n",
      "Image du post 1cq3q97 enregistrée dans le fichier 1cq3q97 .jpg\n",
      "Image du post 1cq2fxk enregistrée dans le fichier 1cq2fxk .jpg\n",
      "Image du post 1cpw4z9 enregistrée dans le fichier 1cpw4z9 .jpg\n",
      "Image du post 1cprdxt enregistrée dans le fichier 1cprdxt .jpg\n",
      "Image du post 1cpp3cq enregistrée dans le fichier 1cpp3cq .jpg\n",
      "Image du post 1cow64y enregistrée dans le fichier 1cow64y .jpg\n",
      "Image du post 1coup20 enregistrée dans le fichier 1coup20 .jpg\n",
      "Image du post 1cot4rn enregistrée dans le fichier 1cot4rn .jpg\n",
      "Image du post 1co1sj7 enregistrée dans le fichier 1co1sj7 .jpg\n",
      "Image du post 1cn4z8y enregistrée dans le fichier 1cn4z8y .jpg\n",
      "Image du post 1cn1et3 enregistrée dans le fichier 1cn1et3 .jpg\n",
      "Image du post 1cn0ey6 enregistrée dans le fichier 1cn0ey6 .jpg\n",
      "Image du post 1cmsyny enregistrée dans le fichier 1cmsyny .jpg\n",
      "Image du post 1cmdvsp enregistrée dans le fichier 1cmdvsp .jpg\n",
      "Image du post 1cm30l9 enregistrée dans le fichier 1cm30l9 .jpg\n",
      "Image du post 1cm0gqt enregistrée dans le fichier 1cm0gqt .jpg\n",
      "Image du post 1cluzqe enregistrée dans le fichier 1cluzqe .jpg\n",
      "Image du post 1clqgwh enregistrée dans le fichier 1clqgwh .jpg\n",
      "Image du post 1clqc8a enregistrée dans le fichier 1clqc8a .jpg\n",
      "Image du post 1cln7bm enregistrée dans le fichier 1cln7bm .jpg\n",
      "Image du post 1clkger enregistrée dans le fichier 1clkger .jpg\n",
      "Image du post 1clkfpi enregistrée dans le fichier 1clkfpi .jpg\n",
      "Image du post 1cliryw enregistrée dans le fichier 1cliryw .jpg\n",
      "Image du post 1clcp78 enregistrée dans le fichier 1clcp78 .jpg\n",
      "Image du post 1clc809 enregistrée dans le fichier 1clc809 .jpg\n",
      "Image du post 1cl5gwq enregistrée dans le fichier 1cl5gwq .jpg\n",
      "Image du post 1ckz78p enregistrée dans le fichier 1ckz78p .jpg\n",
      "Image du post 1ckxtsg enregistrée dans le fichier 1ckxtsg .jpg\n",
      "Image du post 1ckta3c enregistrée dans le fichier 1ckta3c .jpg\n",
      "Image du post 1ck95da enregistrée dans le fichier 1ck95da .jpg\n",
      "Image du post 1ck1zin enregistrée dans le fichier 1ck1zin .jpg\n",
      "Image du post 1cjeql4 enregistrée dans le fichier 1cjeql4 .jpg\n",
      "Image du post 1cizfsu enregistrée dans le fichier 1cizfsu .jpg\n",
      "Image du post 1ciwaem enregistrée dans le fichier 1ciwaem .jpg\n",
      "Image du post 1cinvu5 enregistrée dans le fichier 1cinvu5 .jpg\n",
      "Image du post 1cikbwh enregistrée dans le fichier 1cikbwh .jpg\n",
      "Image du post 1cicttv enregistrée dans le fichier 1cicttv .jpg\n",
      "Image du post 1cic30a enregistrée dans le fichier 1cic30a .jpg\n",
      "Image du post 1ciafn0 enregistrée dans le fichier 1ciafn0 .jpg\n",
      "Image du post 1cia90d enregistrée dans le fichier 1cia90d .jpg\n",
      "Image du post 1ci2ryn enregistrée dans le fichier 1ci2ryn .jpg\n",
      "Image du post 1chpynv enregistrée dans le fichier 1chpynv .jpg\n",
      "Image du post 1chn7cw enregistrée dans le fichier 1chn7cw .jpg\n",
      "Image du post 1chdr4c enregistrée dans le fichier 1chdr4c .jpg\n",
      "Image du post 1ch543a enregistrée dans le fichier 1ch543a .jpg\n",
      "Image du post 1ch48vg enregistrée dans le fichier 1ch48vg .jpg\n",
      "Image du post 1cgxjyq enregistrée dans le fichier 1cgxjyq .jpg\n",
      "Image du post 1cgqzsm enregistrée dans le fichier 1cgqzsm .jpg\n",
      "Image du post 1cgfzai enregistrée dans le fichier 1cgfzai .jpg\n",
      "Image du post 1cgdfjr enregistrée dans le fichier 1cgdfjr .jpg\n",
      "Image du post 1cgc15w enregistrée dans le fichier 1cgc15w .jpg\n",
      "Image du post 1cgb099 enregistrée dans le fichier 1cgb099 .jpg\n",
      "Image du post 1cg6yio enregistrée dans le fichier 1cg6yio .jpg\n",
      "Image du post 1cg5nh5 enregistrée dans le fichier 1cg5nh5 .jpg\n",
      "Image du post 1cg5h84 enregistrée dans le fichier 1cg5h84 .jpg\n",
      "Image du post 1cg14s4 enregistrée dans le fichier 1cg14s4 .jpg\n",
      "Image du post 1cfz35x enregistrée dans le fichier 1cfz35x .jpg\n",
      "Image du post 1cflpur enregistrée dans le fichier 1cflpur .jpg\n",
      "Image du post 1cflp4y enregistrée dans le fichier 1cflp4y .jpg\n",
      "Image du post 1cfj88a enregistrée dans le fichier 1cfj88a .jpg\n",
      "Image du post 1cfit7i enregistrée dans le fichier 1cfit7i .jpg\n",
      "Image du post 1cfb5kq enregistrée dans le fichier 1cfb5kq .jpg\n",
      "Image du post 1cf1akw enregistrée dans le fichier 1cf1akw .jpg\n",
      "Image du post 1cer2d1 enregistrée dans le fichier 1cer2d1 .jpg\n",
      "Image du post 1cejju8 enregistrée dans le fichier 1cejju8 .jpg\n",
      "Image du post 1cejcic enregistrée dans le fichier 1cejcic .jpg\n",
      "Image du post 1ce6gwm enregistrée dans le fichier 1ce6gwm .jpg\n",
      "Image du post 1ce655e enregistrée dans le fichier 1ce655e .jpg\n",
      "Images enregistrées dans le dossier : ../Data/Raw/Images\n"
     ]
    }
   ],
   "source": [
    "# Objet subreddit\n",
    "subreddit = reddit.subreddit(subreddit_name)\n",
    "\n",
    "print(\"En train de scrapper le subreddit :\", subreddit_name)\n",
    "\n",
    "# Pour chacun des 10 dernier posts\n",
    "for post in subreddit.new(limit=100):\n",
    "    # Si le post est une image\n",
    "    if post.url.endswith(('.jpg', '.jpeg', '.png')):\n",
    "        image_url = post.url\n",
    "        # Récupère l'image\n",
    "        image = requests.get(image_url).content\n",
    "        # Sauvegarde l'image\n",
    "        with open(os.path.join(data_path, f\"{post.id}.jpg\"), \"wb\") as f:\n",
    "            f.write(image)\n",
    "        print(\"Image du post\", post.id, \"enregistrée dans le fichier\",post.id,\".jpg\")\n",
    "print(\"Images enregistrées dans le dossier :\", data_path)"
   ]
  },
  {
   "cell_type": "code",
   "execution_count": 49,
   "metadata": {},
   "outputs": [],
   "source": [
    "from PIL import Image\n",
    "import pytesseract\n",
    "import pandas as pd\n"
   ]
  },
  {
   "cell_type": "code",
   "execution_count": 50,
   "metadata": {},
   "outputs": [
    {
     "name": "stdout",
     "output_type": "stream",
     "text": [
      "{'1ctjs8z.jpg': {'contenu': ['r ] eldritchbauble Follow _', 'm Jani6', '', \"You're just a mammal. Let yourself act like it. Your\", 'brain needs enrichment. Your body needs rest. You', 'feel hunger and grow hair. You need to pack bond', \"with other sentient things so you don't become\", 'unsocialized and neurotic. You are biologically', 'inclined to seek dopamine and become sick when', 'chronically stressed. \"Hedonism\" is made up to', 'place moral value on taking pleasure in sensory', \"experiences. | am telling you that if you don't let\", 'yourself be a fucking mammal, as you were made,', 'you will suffer and go insane. No grindset no diets', 'no trying to be above your drive for connection.', 'Pursue what makes you feel good and practice radial', 'rejection of the constructs meant to turn you into a', \"machine. You're a mammal.\", '', 'eldritchbauble eee', '. Jan 16', '', '| am so serious about the way people are taught', 'to view themselves as separate from and above', 'any other animal being the root cause of a lot of', \"problems. You're not better than a beast.\", '', '92,349 notes am oO @', '']}, '1ch543a.jpg': {'contenu': ['f mymedlife Follow eee', '', 'WARNING:', '', 'Endoscopy equipment is NOT to be used for', 'Stealing food from the vending machine!', '= Management 4', '', '@Q ralfmaximus @ @ iz © @ Follow oe', '', 'Fucking endoscopic surgeons stealing all the good', 'chips again', '']}, '1cln7bm.jpg': {'contenu': ['Fi toddchavezwatchescartoons', 'ef Apr 18, 2024 - 9:10 PM - 2 weeks ago', '', '\"Pluto isn\\'t a planet\" Fine.', '\"Dinosaurs had feathers\" Fine!', '', '\"Neptune isn\\'t a beautiful oceanic blue, it\\'s actually the same washed-', 'out disappointing color as Uranus\" | will kill you with my bare hands', '', 'eje\\\\e', '', 'Original 2-colour (orange-green) Colour recalibrated in 2016 (Justin Colour recalibrated in 2023 (Patrick', 'NASA/JPL image from , with Cowart), preserving some Irwin), approximating true colour’', 'exaggerated colour. enhancement for contrast', '', 'Look how they massacred my boy', '', 'toddchavezwatchescartoons owe', 'Bf Apr 18, 2024 - 9:15 PM - 2 weeks ago', '', 'Oh and if you thought Uranus was boring before, boy have | got news', 'for you:', '', 'destructix', '® Apr 27, 2024 - 3:09 PM - 1 week ago', '', 'default blender ball', '']}, '1cqk03b.jpg': {'contenu': ['& junk-thunder Follow eee', 'AM', '', '\"is sex with angels monsterfucking\" forum thread', 'shut down by moderators after 300 pages of fierce', 'debate, 26 banned accounts and 8 doxxed members', '', 'virtualgirladv @ @ © Follow eee', '', '\"would the angels consider us bestiality\" Follow-up', 'thread created and instantly closed with the forum', 'going into lockdown temporally', '', '#spicy theology', '']}, '1ckz78p.jpg': {'contenu': ['as danshive nes', 'Sep 16, 2023', '| enjoy adding \"as one does\" in parentheses', '', 'after describing a strange thing to do (as one', 'does).', '', '4.3 danshive', '', 'eS 27s ago', '', 'This has over 50,000 notes.', 'Somehow.', '', '| think a few of those are me, but still.', '', '50,114 notes aD Oo 2 QO', '']}, '1cs4i1k.jpg': {'contenu': ['& monicam', '', 'my first attempt at a', 'creepypasta (beginner', 'here; go easy on me)', '', 'ee monicam', '', 'carpeted kitchen', '', 'a argumate', '', 'what the fuck', '']}, '1cn1et3.jpg': {'contenu': ['vandigo:', 'orgasham', 'methiemore', '', 'orgasham', 'masturbating-to-vour-seifies:', '102 chicken nuggets', '', \"why would you order 17 of 6 instead of 5 of 20... that shit's\", 'expensive as hell', '', 'Getting 2 four pieces is cheaper then 1 6 piece know your', 'nuggets', '', 'but getting 1 20 piece is cheaper than 3 6 pieces KNOW YOUR', 'NUGGETS', '', \"this is how word problems for math books-are started, isn't it.\", '']}, '1ciafn0.jpg': {'contenu': ['y) mack-anthology-mp3 Follow eee', 'Apr 8', '', 'you came back wrong and i am racked with guilt', 'because i cannot bear to see you like this and i should', 'have let you rest. i loved you so much that i defied', 'death itself but i do not think either of us are happy', '', 'Fs vetchtibbles Follow 900', 'J ii Apr 8', '', 'this is what microwaving leftover pizza feels like', '', '| mack-anthology-mp3 eee', 'Apr 8', '', 'stop it i was trying to be gothic', '', '62,732 notes An Oo BQO', '']}, '1cluzqe.jpg': {'contenu': ['2 ) appalachiananarchist Follow', 'Mw,\" Aprto, 2028', '', '| have an end-of-life patient to whom | spoke', 'today. She burst out laughing and said, \"It', 'was all such fun. | just had so much fun.\" |', 'wish this for everyone. | wish that we each', 'would meet death laughing, with little regret', 'and even less fear.', '', '»\\\\)) appalachiananarchist eee', '§ Feb 24', '', 'It makes me smile every time | see someone', 'reblog this post with commentary about', 'how it made them happy or changed how', 'they look at life and death. This little old lady', 'had no idea how much warmth and comfort', 'she brought to thousands.', '', '66.9K notes Aa DB 279', '']}, '1cejcic.jpg': {'contenu': ['Gay & Lesbian Pride Parade, Seattle, Washington, 1991.', '', 'James May', '', 'r AG, blomgoid Foiow', '', 'STORY SELECT', '', 'Select a)story', '', '“(> Select confirm Back', '', '68,735 notes a oO', '']}, '1cn4z8y.jpg': {'contenu': ['“*W fuiru Follow ooo', 'Jun 1, 2013', '', '“One of my favourite Steve Jobs stories was the', 'time the engineers working on the iPod brought', 'their finished prototype to him in his office. He', 'said it was too big, they needed to make it', 'smaller. They said it was as small as they could', 'make it, it couldn’t be made any smaller. So he', 'took the prototype over to his aquarium and', 'dropped it in. The iPod sank to the bottom, and as', 'it did, tiny little bubbles came out. ‘See those', 'bubbles, he asked. “‘They’re air inside the iPod.', 'Make it smaller.', '', '“Another story about Steve Jobs was when they', 'brought the prototype for the iPad 2 to his office.', 'The engineers told him it was faster than the first', 'iPad. He took it over to his aquarium and dropped', 'it in. ‘Look how slowly it sank,’ he told them.', '‘Make it faster?', '', '“One time a newly hired intern had been sent out', 'to get Steve a sandwich. When she brought it to', 'him, he looked at it. ‘| thought | ordered the beef', 'on rye, he asked. She told him it was indeed beef', 'on rye. He took it over to his fish tank and', 'dropped it in. ‘Does that look like beef on rye?’', '', '“He was always dropping things in that fish tank.', 'We couldn’t stop him. We told him he had to stop,', 'he wouldn’t listen. It was full of stuff that', 'shouldn’t be in an aquarium.', '', '“The fish had all died years ago. One had been', 'crushed under an early generation iMac. The', 'others were all poisoned. He didn’t care.', '', '“It got to the point where there was no room for', 'anything in the fish tank. When we emptied it', 'after he died, we found a body in there. We never', 'found out who it was.”', '', 'f bunnyreese12 Follow eee', ': Jan 14, 2019', '_ pe', 'ie oe] A wits z', '= f i { | “] |', '= ale & y= | 7 r }', '>So', '', \"That doesn't sound right,\", '', \"but | don't know enough\", '', 'about hg dispute it.', 'vi', '', 'Ste', 'Jobs', '', '—', '', '144,324 notes ray {@) van (yy)', '', '']}, '1cikbwh.jpg': {'contenu': ['ae dude-of-electricity', 'me:', '', 'my brain: oh? you’re a chime?', '', 'ra dude-of-electricity', '', \"Oh? You're a chi me?\", '', 'ting', '', 'a week ago i saw this on facebook and thought it was', 'fucking hilarious and now i cant get it out of my head.', 'ill be sitting on the bus or be alone in my room and', '', 'just say “oh? you’re a chime?” out loud', '', 'Source: dude-of-electricity', '', '']}, '1cer2d1.jpg': {'contenu': ['reblogging your own selfie', '', \"why is his name white he's purple\", '', 'his name is redd white and he runs a company named bluecorp we', 'dont ask questions here', '', \"if you mix redd white and bluecorp together like paint you'd get a\", \"light purple or pink depending on ratios. we're just not on his level.\", 'we never will be.', '', 'His hair is purple which is red and blue', '', 'His suit is pink which is red and white', '', 'And his jewels are light blue which is blue and white.', \"his shirt is beige there's something going on\", '', 'he’s a murderer also | think that’s worth mentioning', '', '400,118 notes Wj DZ aueue Post', '']}, '1cua1fn.jpg': {'contenu': ['coughloop Follow see', 'wae Nov 10, 2023', '', 'Worlds oldest haunted house has passed away at the', 'age of 207', '', 'coughloop see', 'Nov 10, 2023', '', 'Ge ratfins 1h ago', '', \"let's get it pregnant again\", '', '| think you have a fundamental misunderstanding Of...', 'maybe everything actually', '', '- cryptotheism Follow', \"F ' @ Nov 10, 2023\", '', 'No no they could be onto something here', '', '* cryptotheism', \"F ' @ Nov 10, 2023\", '', \"What's the worst that could happen? Worth a shot.\", '', '* cryptotheism', \"F ' @ Nov 10, 2023\", '', \"Ah. splanters. In and on my penas. And yeah they're\", 'haunted.', '', '63.1K not vai', 'notes A oO @ av', '']}, '1cfj88a.jpg': {'contenu': ['8 orcboxer @ Follow wee', 'Apr9', '', 'Things that work in fiction but not real life', '', '* torture getting reliable information out of people', '', '* knocking someone out to harmlessly incapacitate them for like an', 'hour', '', '+ jumping into water from staggering heights and surviving the fall', 'completely intact', '', '* calling the police to deescalate a situation', '', '* rafting your way off a desert island', '', '* correctly profiling total strangers based on vibes', '', '* effectively operating every computer by typing and nothing else', '', '* ripping an IV out of your arm without consequences', '', '* heterosexual cowboy', '', 'orcboxer @ wee', 'Apr 13', '', 'This post breaching containment has taught me that a lot of people', 'seem to think they can accurately profile complete strangers. For the', \"record, no the fuck you can't.\", '']}, '1cr1dqv.jpg': {'contenu': ['.&, ukrainian-groove-metal Follow', '', \"| think it's a sign of good media when you\", 'have to reread or rewatch it to get the', '', 'full experience. First time is for getting', 'your brain blasted by the story and being', \"confused second time is for knowing who's\", \"who and what's what and willingly getting\", 'your brain blasted again.', '', '21,948 notes >on Og', '']}, '1cot4rn.jpg': {'contenu': ['Sponsored', '', 'Wildest Dreams Come True', '', 'What does it take for your dreams (the big, huge, wild ones) to', 'come true? God says to mix faith with prayer. How do you do', 'that?', '', 'Learn more', '']}, '1cse9gc.jpg': {'contenu': ['Fas waterloggedsoliloquy Follow', '', 'i cant get over the king charles portrait. they', 'made that thing to age in his place. that', 'painting hangs in the house of a too-friendly', 'family you find in the post apocalyptic', 'wasteland who inexplicably has a ready supply', 'of fresh meat. if mario jumped into that', \"painting he wouldn't find a charming platformer\", 'he would be flayed and hanged like a medieval', 'criminal by an unseeable force in a droning red', 'void. that painting is a color blindness test for', 'people who work in IT but believe in the divine', 'right of kings. that painting is going to weep the', 'sequel to blood. after he dies charles is gonna', 'crawl outta that thing like sadako.', '', 'fig waterloggedsoliloquy Follow', '', 'this painting is what ultrakill soeedrunners see', 'when they close their eyes. if you showed this', 'to the romans who flogged jesus theyd think', 'this painting is excessive. this painting is the', \"blood cavern from space funeral. it's the color\", 'out of space.', '', 'cS bunjywunjy', '', 'jegus tapdancing christ it is actually that bad', '', '* girldong Follow', '']}, '1ciwaem.jpg': {'contenu': ['meme-conservation', 'Dec 8, 2021', '', 'Anonymous said @', '', 'Hello! | greatly enjoyed the \"I lik the', 'bred\" meme back in the day. Is that', \"even considered a meme? How's it\", \"doing? | haven't seen it in an age.\", '', 'i lik the bred', '', 'Conservation status: Conservation', 'Dependent', '', 'Classification: non-native, non-', 'invasive', '', 'Many people are surprised to learn that | Lik', 'The Bred is a meme native to reddit, given its', 'thorough integration into the tumblr', 'ecosystem. It also shares many characteristics', 'with native memes, such as its use of historical', 'spelling conventions and poetic structures. This', 'combination of whimsy and educational', 'background are very common in native memes,', \"which helps to explain the meme's success in\", 'the tumblr ecosystem. Due to its requirement', 'for bloggers to compose original poetry, the', 'meme has a low reproductive rate, preventing it', 'from outcompeting native memes and also', 'contributing to memetic diversity.', '', '| Lik The Bred has dropped off in population', 'since its initial boom after introduction.', 'However, a small and dedicated group of', 'bloggers who, like anon above, are fond of this', 'meme have taken it upon themselves to', 'maintain the viability of the | Lik The Bred', 'meme through a robust hybridization program,', 'and thanks to their efforts this meme is still', 'seen in the wild with some regularity.', '', '#meme conservation #i lik the bred', '', '#Conservation dependent #Non-native', 'memes', '', '319 notes a ong', '']}, '1cg6yio.jpg': {'contenu': ['Booby traps? Sure, | would easily fall into a trap if |', 'saw boobs', '', '4 netherworldpost @®% ¥ Follow', 'Feb 28', '', '$f', '', 'despite being interviewed individually, all four gave', 'the exact same response', '']}, '1ctdpbq.jpg': {'contenu': ['@» otherkinned', 'what should i get at ihop', '', '? otherkinned', '', 'alright.', '25,672 notes a 2 9', '']}, '1cspq4m.jpg': {'contenu': ['(<?) programmerhumour', '', 'People who', 'understand', '', 'true', '', 'By = theprisonindustrialcomplex', '', 'MineCraft Logic Gates', '41865 HRA', '', 'TrPrrrrrrr Fr &', 'os', '=', '=', 'e', '', 'this isn’t a joke', '', 'EA porko-rosso', '', 'Reminder that someone programed pokemon', 'red into minecraft using redstone and it was', 'completely playable', '', 'EM porko-rosso', '', '~ =', '', 'RoKEN ~~', '', 'Redavers }', 'de AINE YouTube', '', 'VNU SSeS', '', '“85 thenimbus', '', 'theory: our reality and the universe we all', 'reside in is actually just a minecraft simulation', 'run on an immense redstone framework', '', '%> quattuorimmortalem', '', 'Someone programmed a red stone system to', 'call and order a pizza. | wish | made this up.', '', '']}, '1ck95da.jpg': {'contenu': ['deirdreskye Follow', '', 'American middle school: okay for gym class', \"today we're going to learn how to square\", 'dance like a bunch of cowboys. The cookie', 'monster pajama pants white trash girl and', 'the most suicidal autistic boy will be going', 'first', '', '22,433 notes > Oo 83 U0 2', '']}, '1co1sj7.jpg': {'contenu': ['[| rathernoon', '', 'me: dress how you want!! gender is fake!!!', '', 'trans person: i like gender tho', '', 'me: hell yeah i respect that!!!! i apologize', \"and don't mean to dismiss your identity with\", '', 'Fj ebonyheartnet', '', 'Good post OP', '', 'a aquarian-sunchild', '', 'Denounce gender roles but respect gender', 'identity.', '', 'Vv smallest-feeblest-boggart', '', 'Denounce gender roles but', 'respect gender identity.', '']}, '1cic30a.jpg': {'contenu': ['24 composerinprogress Follow', 'May 18, 2020', '', 'Sep ase aS Las', '', ': : : : 2', 'f= aa Ten a eee a', '', '= i = =', '', 'Ota ee ee eee eee cee', '', 'of |', '', '=', '', 'frogs B See ae See eeeee aed aaa ee eae eee', '', \"Hey now, you're an all star\", 'listen to what | orchestrated', '', 'SoundCloud', '', 'architectofimagination @ @ @', '', 'By Follow “ee', 'May 18, 2020', '', 'THIS IS FUKING AMAZING WHY CANT |', 'SPREAD THIS EVERYWHERE | WANNA', 'SHOW IT TO EVERYONE. LITERAL', 'GOOSEBUMPS', '', 'nargles-everywere', '20h ago', '', 'huh. Wonder what this is.', '', 'zekthesans Follow coe', 'Jun 21, 2020', '', 'composer IN progress????', '', 'NO, YOU ARE READY FOR THE WORLD. IN', 'FACT, THE WORLD IS NOT READY FOR YOU', '']}, '1cmdvsp.jpg': {'contenu': [\"superbly-charging-at-78-percent Q'S cee\", 'Victim: “why are you doing this???”', 'Patric Bateman: “i guess you could call me... an American Psycho.”', '', 'i have not watched that movie this is my best approximation of the', 'plot', '', \"#yeah that's basically it\", '', '17 notes aA O', '', 'tt', '<', '']}, '1cflp4y.jpg': {'contenu': ['| bizlybebo \"= (2) GB G2 Follow see', '', 'Mar 12', '', 'so fucking evil that i don’t have the jagged pointy', 'cartoon teeth that fit together like triangles. i', 'deserve them', '', 'ay proghosterone @@ Follow see', '', 'Mar 20', '', 'got that vivsiepop dysphoria', '', 'ant', 'ALT', '', \"please. please don't call it that prev. I'm begging\", 'you. sobbign at your feet', '', 'cowgirlpolyamory Follow see', 'Mar 21', '', 'the hatemail game on this site is insane', '']}, '1cjeql4.jpg': {'contenu': ['Ea backtothegaypilot @@@ Follow', 'Th ago', '', '“ws gothdrool', '', 'pp! who celebrate time loop reset', 'days are annoying pass it on', '', 'e@ cub2', '', 'FUCK this post and happy draculoop', '', 'wishing my good friend Jonathan Harker the best of luck on his', 'journey Je', '', '™é#dracula daily #redracula “#dracula ~™ #re: dracula', '']}, '1cm0gqt.jpg': {'contenu': ['gs burplesnurf2', '', 'the cha cha slide in full metal armor', '', '& burplesnurf2', '', '\"Sliiide to the left”', '', '*indescribably loud screeching of metal against', 'asphalt*', '', '& burplesnurf2', '', '“one hop this time”', '*clonk*', '“two hops this time”', '', '*clonk clonk*', '', '& burplesnurf2', '', '“everybody clap your hands!”', '', '*clankclankclankclankclank*', '']}, '1cgxjyq.jpg': {'contenu': ['autistichalsin Follow .', '', 'Ever notice how any time someone calls you', 'cringe’, 99 times out of 100 what they mean', 'is \"you\\'re happy and | don\\'t like it”', '', 'PEA autistchatsin ”', '', 'No one ever calls bullying cringe. No one', 'ever calls rudeness cringe. No one ever calls', '‘toxic negativity cringe. Only hobbies get', 'called cringe. Only enjoying things get called', 'cringe. Only jokes and mannerisms and', 'interests get called cringe.', '', '& blanddcheadcanons @ © °F Follow +++', 'It is also usually a bias against autistic people', '', 'and women. Or a lot of marginalized groups', 'now that | think of it', '', '‘q iackdoe Follow .', '', 'The word “cringe” has absolutely been', \"weaponized against people who's only crime\", 'is showing genuine emotion and vulnerability', 'of self, which is not only toxic but also.', 'destructive to one of the foundational', 'aspects of our species communication skills,', '']}, '1chdr4c.jpg': {'contenu': ['Poa', 'ry woman-becomer eee', '', \"sure | could become a slut. but you see, I'm scared\", '', 'post-uwuifer Follow eee', '', 'suwe | couwd become a swut!! :3 but yoo see, I’m', 'scawed UwU', '', 'This post has been UwU-ified!', '', 'al meepmoopmaap \"= (i) @ Follow eee', '', 'you are a curse sent from the devil himself to mock', 'mortals.', '', 'post-uwuifer ot', '', 'sent fwom da deviw? No, siwwy! :3', '', 'My powers far exceed him.', '', 'Se kdinjenzen Follow coe', '', 'SENT FWOM DA DEVIWS NO SIWWY! :2', '', 'My powers far exceed him,', '', '39.4K notes a oO @ @#v', '']}, '1cow64y.jpg': {'contenu': ['Z pajamasecrets Follow', 'Sep 19, 2020', '', 'The Fukushima accident was very', 'unfortunate and it hits me hard', 'because | have a degree in nuclear', 'engineering and have been working', 'in the nuclear power industry for', '', 'over 20 years.', '', 'PLEASE JUST SHOW ME THE CASSEROLE', 'RECIPE', '', 'melrows Follow', 'Sep 28, 2020', '', 'For a split second my dumbass thought the', 'Fukushima nuclear accident had fried the rice', '', 'Ss. jayiray Follow see', 'Jan 20, 2021', '', '™', '3', '', 'venmo:ehjovan', '', 'A', '', 'you tellin me the Fukushima fried this rice', '', 'Nuclear Accident', '', '218.8K notes am oO @', '']}, '1cg5nh5.jpg': {'contenu': ['fictional characters who', 'could absolutely kill', 'thanos', '', 'e ramona from scott pilgrim', 'e noodle from gorillaz', '', 'e gary from spongebob', '', 'e phineas and ferb', '', '¢ wendy from gravity falls', '', 'a su-mafia-yandere-lapidot-au-blog', '', 'Aren’t Phineas and Ferb a little young to kill', 'Thanos?', '', 'E®, annikuh', '', 'Yes, yes they are', '', 'Bo neotheresa', '', 'al expederest', '', '“000000000, you guys are so busted! Moooom!', 'Phineas and Ferb are -”', '', '']}, '1clc809.jpg': {'contenu': ['papasmoke Follow', 'Apr 11, 2022', '', 'Anonymous asked:', '', 'you just hate the cis because of the things that they did', '', 'papasmoke answered:', '', 'I hate the cis because it is led by the treacherous count', 'dooku', '']}, '1clkfpi.jpg': {'contenu': ['disgustinggf @ € @ €@ Follow eee', 'if you say meow three times while looking at the', 'mirror i will appear and knock your things off the', 'counter', '']}, '1cf1akw.jpg': {'contenu': ['g pirateprincessjess @ @ @ eee', 'is) Apr 9', 'When | was a kid my family pretended to get raptured so | would think | was left', 'behind on earth while they all went to heaven.', '', '| was like 8 years old and my sister and mom had gotten really into the Left', 'Behind novels (bible fan fic about the rapture). In the books when the rapture', 'happened the clothes that people were wearing when they got raptured were', 'left behind in neatly folded piles.', '', 'One day when | was getting home from school my family decided that they', 'would leave piles of neatly folded clothes around the house, and then hide in', 'the basement.', '', 'The intended effect was that | would get home and see the clothes then, think', 'that my family had been raptured and that | wasn’t good enough to get into', 'heaven... or something?', '', 'The problem was that | had never read these books, and didn’t really think', 'about the rapture very often. There was no reason that | would see some', 'laundry on the floor and think “The rapture happened and I’ve been abandoned', 'by God! I’ll never see my family again!! Oh nooo!!!!”', '', '| just sat down and watched cartoons and eventually my family got bored and', 'revealed that they were all hiding in the basement.', '', 'It’s a good thing | didn’t understand the joke, otherwise that shit would have', 'been traumatic.', '', 'uM dietspam16 eos', 'Apr 10', '', '__ clownboybebop see', '=) Apr 19', '', '']}, '1cg14s4.jpg': {'contenu': ['trashedeggnog © ryandaliass Folgen', '', '= theglitterous', '', 'No porn on tumblr we describe our nudes in detail instead', '', 'eat gxlddustwoman', '', 'today | was wearing a black corset with matching lace around it and a black', 'leather miniskirt, pink fishnets and black combat boots. | was wearing black', 'lipstick, white foundation, black eyeliner and red eye shadow. A lot of preps', 'stared at me. | put up my middle finger at them.', '', '']}, '1cliryw.jpg': {'contenu': ['The Egyptian Mau is probably the oldest', 'breed of cat. In fact, the breed is so ancient', 'that its name is the Egyptian word for “cat.”', '', 're | thesixpennybook Follow eee', '', '#did they name it mau because thats the', '', 'sound cats make!?', '', 'now | am just imagining a very early Egyptian', 'encountering a wild cat for the first time.', '', 'human: what the fuck are you?', 'cat: mau', '', 'human: oh okay then', '']}, '1cg5h84.jpg': {'contenu': [' weaver-z Follow', '', \"| love meringue cookies so much it's like eating\", 'drywall that loves you', '', '_weaver-z Follow', '', 'ohohoho.... tecksture', '', '_pweaver-z Follow', '', \"#crucnch munch muchn baby!! that's cookie!\", '', '#if you press it to the roof of your mouth it melts and ooohooohoo.', '', 'one way ticket to Ticket Town!', 'You guys get it', '#ticket town ghfhdfdgf', '', '26,133 notes > O Ba YOY', '']}, '1ch48vg.jpg': {'contenu': [\"Furious. The thing everyone's been telling me to read\", 'and watch for years is incredible. This is exactly to my', 'tastes and the friends who recommended it knew me', \"well enough to know that. 'm so fucking mad.\", '', '60m ‘Apr 29, 2024', '']}, '1cejju8.jpg': {'contenu': ['Anonymous said', '', 'whale shaped packer call that a', 'moby dick', '', 'pansyfemme answered', '', 'have i finally reached the level of', 'tumblr fame where ppl come into my', 'inbox to make posts for me. this is', 'great i dont have to do shit anymore', '']}, '1ce6gwm.jpg': {'contenu': ['they used to make smackable technology. you used to be able', \"to hit your tv when it didn't work good.\", '', ': wizardarchetypes Follow _', 'Nh ago', '', 'when | was a kid | had an old tv in my room that would always', 'turn to unwatchable static in the middle of shows but one', 'night my sister and | were watching Naruto & every time', 'Kakashi was on-screen the static cleared so we were like', '“hahaha the tv looooves Kakashi.”', '', '| had a Kakashi bookmark so we held it up against the screen', 'as a joke but the static actually cleared up. Mystified, we', 'tried different bookmarks and objects with the same plastic', 'material but nothing else worked, only the Kakashi bookmark.', '', 'We ended up taping it to the corner of the screen and it stayed', 'there for 11 years until we moved out. When | was older people', 'would be like “can you move the bookmark off the screen” bc', 'it did sort of block a bit of the view but | would demonstrate', 'the static issue and everyone was always just like “huh. what', 'the hell?? well...alright.”', '', 'No explanation, but thanks Kakashi.', '', '58.4K notes A', '', 'tl', '-', '']}, '1cmsyny.jpg': {'contenu': ['aa sodapoplio Follow eee', 'Nov 28, 2017', '', '< kai-wildfang Follow see', 'Feb 11, 2018', '', 'Can someone from the Pokemon fandom explain', 'this, | don’t understand nurse Joy’s reaction.', '', '—) coolsville-ghetto Follow', '2B Mar 13, 2018', '', 'Ho-oh is basically a minor deity, so nurse joy', 'pretty much just heard this ten year old say “i', 'threw a rat at a god.”', '', 'Fxg camiluna27 Follow see', 'BEES) Oct 7, 2018', '', 'i threw a rat ata god', '', 'ld eee Ge) = |) ( © Follow', '', 'Aug 5, 2019', '', 'The best part? Pikachu is awake. Pokemon faint', 'upon being defeated.', '', 'What Nurse Joy heard was more along the lines', 'of “I threw a mouse at a god and the mouse', 'won.”', '', 'Gad feccurtlofetershine Follow see', '', 'Aug 6, 2019', '', 'what is a king to a god', '', 'what is a god to a ten year old with an electric', 'mouse', '', '> nentuaby Follow see', 'Oct 5, 2020', '', 'Maybe God shoulda rethought the Flying typing', 'if he didn’t want his ass kicked by an electric', 'mouse.', '', '#pokemon heritage post', '', '455,808notes GB O © @&', '']}, '1cflpur.jpg': {'contenu': ['suppert22 @@\"S Follow see', '', 'Flowey: NOOOO! STOP! YOURE SUPPOSED TO OBEY ME', '', 'The six human Testosterone bottles:', '', '#finale.mp3', '', '11,759 notes a oO', '', 'tl', 'c<)', '']}, '1cti4eh.jpg': {'contenu': ['& permanenthistorydamage @)', '', 'a weighted blanket is not enough please', 'compress me into a .zip file', '', 'tv', '', 'the sleeeperrrrr', '', 't', '']}, '1clcp78.jpg': {'contenu': ['apollos-boyfriend @@@® Follow _', '', 'Apr 24', '', 'i was cuddling with my boyfriend last night when his shoulder started', 'tensing up (like he was readjusting or gently pushing me off) and', 'when i asked him if he was okay or needed me to move or something', 'he went “no you’re fine, i was just imagining myself pulling a large', 'rope. i didn’t even realize my shoulder was doing that lmao” then', 'refused to elaborate and i have never been as attracted to him as i was', 'in that moment.', '', '#icarus speaks #apollocameo #okay i’m lying a bit', '', '#he DID elaborate and say the rope was large in the sense that it was', 'long', '', '#not just an overly thick rope', '', '#but other than that? nothing. the inner workings of their mind are so', 'beautiful', '']}, '1cqze4n.jpg': {'contenu': ['g paulmccartneygrindr @ @@ Follow res', '', 'Are You Getting Queerbaited Or Are You Being', 'Misled By Your Internet Echo Chamber', '', 'inkbleeder Follow os', '', 'Is That Really Out Of Character Or Is It Out Of', 'Character According To The Popular Fanon', 'Interpretation Of The Character You Subscribe To', '', '@ casa-neurotica-deactivated20221', '', 'Does That Character You Hate Really Deserve It Or', 'Do You Hate Them For Something They Only Did', 'In A Fanfic Or Headcanon?', '', 'le', 'pe samisadeangirl @@ Follow oa', '', 'Are You Being Queerbaited Or Are You Imagining', 'Something Is There That Doesn’t Actually Exist?', '', 'Is That Character Really [Insert personality trait,', 'sexuality, etc.] Or Are You Projecting Onto Them?', '', 'Does That Character You Hate Really Deserve It Or', 'Are They Simply In the Way of Your Personal', 'Fantasy?', '']}, '1cizfsu.jpg': {'contenu': ['we amtrak-official @ @ coe', '', '2d ago', '', 'Hawaiian Shirts are Formal Wear', '', 'A amtrak- official @ © sce', '', '2d ago', '', 'This isn’t satire or anything, | unironically', 'wear a Hawaiian shirt and khakis when |', 'want to look nice', '', '=, amtrak- official @ © coe', '', '2d ago', '', 'This is Formal wear', '', 'Ye al NES', '', 'cheese-in-space @ © @ Follow', '4+ @2d ago', '', 'Is the ray also formal wear', '', '7, amtrak- official @ © coe', '', '2d ago', '', 'She just hangs out on my rug', '', 'jw batshua Follow see', '2d ago', '', '... | was really hoping the ray was secretly a', 'hat.', '', 'A amtrak- official @ © ése', '', '2d ago', '', '| need to learn how to turn her into a hat', '', '7, amtrak- official @ © coe', '', '2d ago', '', 'Here are the other 2 \"nice\" shirts | wear', '', 'No idea if the second counts as Hawaiian', 'but | really like it', '', 'a thesunburnsmyeye ®) Follow', 'Yesterday', '', 'Is it just me or is every image with the ray in', '', 'it slightly hazy', '', 'A amtrak- official @ © sce', '', 'Yesterday', '', 'My phone camera sucks ass', '', 'A amtrak- official @ © sce', '', 'Yesterday', '', 'Also in case you still think | am joking, | wore', 'the shirt with the oranges when | visited the', 'Vatican Museums back in July', '', 'janhetjoch @ @ \"= Follow see', '17h ago', '', 'Why would you need formal wear to visit a', 'museum?', '', 'A amtrak- official @ © sce', '', '16h ago', '', 'The Vatican is weird', '', 'whatyoustand4 @) *® @ @ Follow', '» @ Thago', '', 'is that a bat in pearls holding the oranges', 'shirt?', '', '=, amtrak- official @ © sce', '', '5h ago', '', \"They aren't real pearls\", '', '‘@)\\\\ wandering-aloneo-o @ © @ Follow', '5h ago', '', 'SO ITS A REAL BAT!?', '', '7, amtrak- official @ @', '5h ago', '', 'No...', '']}, '1ctusoc.jpg': {'contenu': ['S omtai @ Follow eee', '', 'remember when you used to be able to play snake', 'with the... hold on what’s it called', '', 'What is the loading circle symbol called? «A', '', 'Many browsers — like Mozilla Firefox, Opera and', 'Google Chrome — place a small annular', 'throbber in the tab while a page is loading and', '', '1 = eal at er # .. S . € ah .. bs', '', 'hmm. don’t think i’ll be calling it that. anyways i', 'was gonna say remember when you could play', '', 'snake with the buffering circle on youtube but.', '', 'now i have other concerns', '']}, '1cprdxt.jpg': {'contenu': ['“why is everyone', 'complaining about', 'the font size of the', 'quotes”', '', 'n (via the-yolocaust', '', '']}, '1ckta3c.jpg': {'contenu': ['t', '', 'Jhe thing about writing is that either it is the most', \"peaceful and satisfying activity ever, or you're\", 'wandering about your house at 2:30am with your', 'laptop on 3% battery, 25+ tabs open, a cursor', 'blinking away taunting your inaptitude as you try', \"to remember what doorknobs are called. Or you're\", '', 'lying in a pit of darkness not writing at all.', '', '3,090 notes a O', '', 'FA czrboo (@) reblogged', '', 'Jul 1, 2023', '', 'pukicho', 'Jul1, 2023', '', 'welcome to the poop realm. Do NOT touch', 'anything.', '', '5 czrboo @', 'Jul 1, 2023', \"don't tell me what to do\", '', '“flops to the ground*', '', '*makes poop angels*', '', '0 oO', '', 'So @¢', '', 'f=]', 'NS', '']}, '1ck1zin.jpg': {'contenu': ['ed theindestructiblelittlemy', '', 'is it just me or is NASA weirdly aggressive in their', 'article about black holes?', '', 'Could a Black Hole Destroy Earth?', 'Black holes do not go around in space eating stars, moons and planets. Earth will not fall into a black', 'hole because no black hole Is close enough to the solar system for Earth to do that', '', 'Even if a black hole the same mass as the sun were to take the place of the sun, Earth still would not', '', 'fall in. The black hole would have the same gravity as the sun. Earth and the other planets would orbit', 'the black hole as they orbit the sun now.', '', 'The sun will never turn into a black hole. The sun is not a big enough star to make a black hole.', '', 'can a black hole destroy the earth?', 'no, you idiot.', 'black holes aren’t planet gluttons, you bitch.', '', 'and the earth isn’t some weak-ass planet that', 'would just fall in to a black hole like a sucker.', '', 'and that dumbass sun that we’ve got isn’t big', 'enough to make a black hole like other stars.', '', 'you fool.', '']}, '1cqzcp6.jpg': {'contenu': ['{B) vastcoot', '', \"We are all God's children and he left us in a hot car.\", '', 'at galaxywhiz', '', 'Is this Twenty One Pilots?', '', 'ID vasteoo', '', \"Disrespect me like that again and I'll pistol whip your grandpé\", '', '2 psychoticrambling', '', 'By Falloutboy', '', 'Source: vasteoo!', '']}, '1ctwhxb.jpg': {'contenu': ['iggykoopa666 ‘ Follow', '', 'you have to pick one to fuck', '(consensually)', '', 'mario', 'luigi', 'peach', 'bowser', 'yoshi', 'wario', 'daisy', 'waluigi', 'toad', 'birdo', 'pauline', 'donkey kong', '', '61,045 votes * Remaining time: 4 days 18 hours', '', 'thats the poll. please reblog', '']}, '1cq4lql.jpg': {'contenu': ['2¢2@@0', '', 'people need to realise that a poor little meow', 'meow must be a character who has committed', 'atrocities you cannot poor little meow meow a', 'good guy that’s not how this works', '', 'EL <ea0e0', '', 'what this post has shown me is that so many of', 'people on this hellsite cannot distinguish between', 'a poor little meow meow and a blorbo from my', 'shows smh', '', 'luulapants', '—————_———_', 'More good More evil', 'a', 'petal roll Blorbo from my Feel DME', 'too good for this shows meow Meow', '', 'world, too pure', '', 'Hope this helps!', '']}, '1csk0ga.jpg': {'contenu': ['padmestrilogy Follow', 'Mar 28', '', 'can’t believe revenge of the sith takes', 'place over four days. worst week of obi', 'wan’s life. worst week of padme’s life.', 'worst week of yoda’s life. somewhere in', 'the bottom 50 for anakin', '', '#star wars', '', '3,436 notes je {©)', '', 'a)', '8', '']}, '1cq2fxk.jpg': {'contenu': ['frotting', '', 'imagine if instead of kpop it was rpop', \"and it's from russia and you had girls all\", 'over Twitter being like \"stream A', 'KaKasla B LUTaHbI\" and posting pictures', 'like this and being like \"OMG', 'lvonovativich looks so CUTE\"', '', '']}, '1cgc15w.jpg': {'contenu': ['a historycultureeducation', '', 'Pin 9', '', 'fa', '', '9 f . Ba ; .', 'wa', '', 'hd', '', 'My uncle and grandma on their way to a', 'pride parade in the ‘80s', '']}, '1cfb5kq.jpg': {'contenu': ['& hotvampireadjacent *$ @) Follow', '', 'The Drive', '', \"The gas station chain's new Utah-based\", 'owners are tired of your jokes, and the', 'famous name will disappear by 2025.', '', \"NOOOOOOOOO0O00O000000000 THEY CAN'T DO\", 'THIS! IT ISNT RIGHT', '', 'fa jesterdoodiles @ @ @ @ Follow', '', 'fr} heyftinally *S @ @ @ @ Follow', '', \"#what's the world kuming to\", '', \"I'm not letting you leave this in the tags\", '']}, '1coup20.jpg': {'contenu': ['@ cimmanom-swirl oe', '', 'You know, as humans, we will without fail make mistakes. It is', 'unavoidable. You will make decisions with your best judgement in', 'mind, and still come short of your own expectations. Most will tell you', 'that such mistakes are an important part of life, and that what really', 'matters is what can be learned from them. However, there are some', 'mistakes that are not so easily resolved with such thinking. There are', 'mistakes that will forever change your identity as a human being.', 'Mistakes that will leave a scar on your very soul, nary to heal. Mistakes', 'the consequences of which will forever outweigh any lesson that can', 'be learned. Mistakes that will follow you to your grave, and beyond.', '', 'So, | tried that pineapple and jalapefio pizza from that stranger things', \"promotion. It's bad.\", '', '#imnotmad_ #im just disappointed', '']}, '1cn0ey6.jpg': {'contenu': ['megamindsupremacy @ &', 'us Apr 12, 2022', '', 'DC Twitter must have been INSANE when it got out that Superboy’s dads were', 'Superman and Lex Luthor. Holy shit. The memes. The ship wars. The', 'homophobes. The mpreg jokes. People would have lost their fucking minds.', 'Lex Luthor releases a statement like “he’s a clone of me and Superman no', 'birth was involved” and people are like KINDA GAY OF YOU TO HAVE ASON', 'WITH ANOTHER MAN, LUTHOR. Lexcorp’s PR team locks themselves in a', 'conference room and refuses to come out for love or money.', '', '4} megamindsupremacy @ @', 'Aug 18, 2022', '', \"#this but its during lex's president era n he has to\", 'give a bill clinton style speech abt it #dc', '', '| mean, technically it’s true', '', 'Ps penny-anna @ @ GO', 'Aug 19, 2022', '', 'Lux Luthor: | did not have sexual relations with Superman, | simply stole his', '', 'DNA and created a child from it without his consent', '', 'Everyone in Metropolis:', '', 'wiih', '', 'j', '', \"Okay: But that's worse!\", '', \"You do get how that's worse right?\", '']}, '1cfit7i.jpg': {'contenu': ['ent rattlegore Follow', '', 'back when cons were only sort of death traps my', 'go to cosplay was ms pauling from tf2 because it', 'was quick and easy and i looked cute and shes a', 'good character and one time a guy dressed as', 'scout came up to me while i was chilling on the', 'ctcon patio and was like hey ms pauling how ya', 'doing in the scout voice and then he fell down the', 'stairs in front of me', '', 'ie lindleland Follow', '', 'that wasn’t a cosplayer that was the real scout tf2', '']}, '1cfz35x.jpg': {'contenu': [\"— oriocookie S'abonner\", '', 'obsessed with the way my robotics team', 'lead talks', '', 'she’s reinventing hieroglyphics', '', \"4, mp-lty S'abonner\", '', 'She’s the only person who truly understands', 'how emojis were meant to be used.', '']}, '1cssa3j.jpg': {'contenu': ['biggest-gaudiest-patronuses @ cee', '= @ reblogged', '', 'biggest-gaudiest-patronuses @ cee', '— )', '', 'queer platonic polycule whose primary purpose is to', 'allow us to afford a house', '', 'biggest-gaudiest-patronuses @ cee', '—— @', '', 'some couples have sex; we do sunday potluck and', \"take turns walking each other's dogs\", '', '=, deadpansasser Follow eee', '2', '', 'Monogamy?', '', 'In this economy?', '', \"It's lege likely than you think.\", '', '16,788 notes (>) {O) bes', '']}, '1cq3q97.jpg': {'contenu': ['*RUB', '', '* ONE', '*OUT', '', 'A thegestianpoet', '', 'hey guys | need you to see this slide', \"from my brother's college’s mandatory\", 'sexual assault prevention training video', 'which was so bad that the school had', 'to release an official apology .', 'everything about it has me fucked up', '']}, '1cu5vlr.jpg': {'contenu': [\"The thing they don't tell you about FFXIV is that it does irreparable\", 'harm to your speech', '', 'Not just the Ye Olde English pronouns, not just thinking “maim” and', '“onze” are perfectly acceptable terms', '', 'It’s the very real and present desire to just go “Piss off, kupo” in the', 'absolute worst moments', '', 'ceryoriku @', 'dag', '', '#seven hells _ #itjust hits so much harde', '', '#€ pre', '', 'ls alot #like a LC', '', 'iends have called me out for saying Wi', '', 'wicked', 'chokehold on n', \"#also'seven hells by the twelve and thats ba\", '', '#or by the twelve', '', '$ a8 well', '', '#thals bal', '', '']}, '1cl5gwq.jpg': {'contenu': ['@ graslund42 eee', '', 'me reading: ugh, another flashback chapter. i mean its not like i dislike', 'this all that much but id really prefer to get back into the current', 'events i was really into the thing that was happening in the story', '', 'me writing: ooohhohhoh ehehehee. yesss this willb e a great palce for', 'another flashback. oohhohoho this character remembers when they', 'were a Child annd their mother sang this little song for them hihhhihhi.', 'its the only time they can ever remember having been held. also, Now |', 'Can Do Worldbuilding.', '', '#writing #creative writing #books #literature #flashbacks', '#aaaaaaaa', '', '® Blaze Hs', '', 'O notes aA 2) van 9g', '']}, '1cgfzai.jpg': {'contenu': ['* evilkakyoin Follow oes', '', 'just gonna start killing people i dont find funny', '', 'FA cthuluguu Follow occ', '', 'National Suicide Prevention Lifeline', '', '1-800-273-8255', '', '@ evilkakyoin see', '', 'shut the fuck up', '', 'RP cipheramnesia ® Follow see', '', \"People will talk about TumblIr's amazing hatemail\", 'game but its person to person reply game is', 'equally unhinged.', '']}, '1chpynv.jpg': {'contenu': ['The blacknose shark is not known to pose 4', 'a danger to humans.', '', 'yeah man we Can tell', '', 'y. ajax-n-co \"=', '« fe 7 “', '', 'he looks like hes on the verge of sobbing', '']}, '1cia90d.jpg': {'contenu': ['paulmecartneygrindr @ © @ <', 'blogué ladystarrdust', 'lyatt', '', \"& qiyra ® S'abonner\", '%, ve 19 févi', '', 'Next up in the torment', 'nexus: weed gummies', 'that kill you', '', '3', '', '20,000 mg &% Can you guess what BFG', 'stands for?! This gummy is unlike anything', 'else out there! Are you going to slice it up and', 'share, or eat it yourself? Read our review of', 'this truly BFG.', '', 'Some people are taking \"Nobody in history', 'has died of a THC overdose\" as a challenge.', '', \"| lastoneout @ @ S'abonner\", '', \"wo 19 f '\", '', 'Mp', '', 'Love the people in the notes like \"this would', 'fix me\" bestie this thing would dissolve your', 'brain into a fine mist. You would discover', 'the kind of mental illnesses Freud could only', 'dream of. Forget meeting the Hat Man this', 'is what turns you into the Hat Man. This is', 'worse than that torture drug that makes you', 'expirience 600 billion years in a second. This', 'is the secret to honest to god shifting. The', 'fucking MK-ULTRA era CIA would tell you', '', 'to dial it back if you showed them this thing.', 'This is the closest humans have ever come', 'to making a physical manifestation of a bad', 'idea. The only thing this is fixing is fixing to', 'turn you inside out.', '', \"wes 4 hellsitegenetics S'abonner\", '', 'String identified:', 'tttt: g tat', 'atag\"taaTC\"aacag.', '', 'ttt\"t\"tttgatatcttaca.gttgtatatat', 'tttata.Ttatatttgtatac600aac.Ttctt', 'ttgtg.Tcg-TAaCAttatactttg.Ttcta', 'actagacaatataaa.Ttgtggttt.', '', 'Closest match: Furcifer pardalis isolate Fpa_1', 'chromosome 9', 'Common name: Panther chameleon', '', '’', '+', 'oba', '+7)', '', ',:', '', \"ICON, BLN ce LRH cae decile S'abonner\", '', 'This is what eating that whole gummy would', 'turn you into', '', '68,9knot.. )A O © ep)', '']}, '1chn7cw.jpg': {'contenu': ['ic] egberts Follow', '', 'insomelosemore * ly', '', 'haccthaplanet + ly', 'Sometimes | blow on my ice cream before | take a', 'bite. Have no idea why.', 'o 22.5k', 'junkhacker « ly', '@ 1 Award', 'brain: food, is very temperature!', '', 'also brain: no worry, learned from soup, know', 'what do', '', 'EQ avoit Follow', '', 'This is the tone in which my brain talks about', 'everything', '', '76,127 notes &> ag', '']}, '1cinvu5.jpg': {'contenu': ['furryprovocateur Follow .', 'Apr t0', '', \"‘the early 2010s were better” no they weren't. “hey soul sister” was on\", 'the radio.', '', 'Soy hyumjim Follow we', '@ 22290', '', \"stereo. The way you move ain't fair you know.\", '']}, '1crftq3.jpg': {'contenu': ['~~ | alexmey-does-an-arts @@@ Follow aes', '', 'mm fulled of eggs', '', '® Blaze', '', 'X Close notes lag oO va iy)', '036 16174 Y23147 & ££ Comments and tags V', 'a) alexmey-does-an-arts @ alexmey-does-an-arts eee', '', 'wait fuck NOT A FETISH POST NOT AFETISH POST NOTA', 'FETISH POST. HARBOILED EGG ARE HARD BOPILED', 'CHICKEN EGGS . CHIECKEN EGGS | ATE THEM NOT !!', 'PEGNANT', '', 'Reblog View post', '']}, '1clqc8a.jpg': {'contenu': ['«_ neil-gaiman @ cee', '', '® Jan 31', '', \"As long as the locks hold they can't get out.\", '', 'badjokesbyjeff €% €% €% (2 &2 see', '', '@ Feb2', '', '@  netheris (ei) \"= G) (3 (9) Follow see', '', '@ Feb2', '', 'JEFFERY NOOOO-', 'badjokesbyjetf 42 42 @ @ Gs Gd', '', '® Feb2', '', 'fal', '']}, '1ci2ryn.jpg': {'contenu': ['= you-only-liberate-once', '', 'my host mom in Japan referred to her', 'Roomba as “Roomba-san” and when it', 'would get stuck she would just look over it', 'and softly say “ganbatte, Roomba-', 'san...ganbatte” as it made distressed', 'beeping noises at her', '', 'B whoopsrobots', '', '“Ganbatte: Cheer up, Be courageous, Do your', 'best”', '']}, '1cgdfjr.jpg': {'contenu': ['GA', 'ay', '', 'Peg bDlioomedwings Follow', '', 'Ugh, was having a great time mocking my', 'recently imprisoned rival when | noticed', 'the camera positioning makes it so that |', 'appear behind the bars, thus framing me', 'as trapped in a metaphorical prison of the', 'narrative, now my whole day is ruined.', 'Fuck.', '', 'nuclear-wizard Follow', '', '| get it, man. The other day, | survived', '', 'a shootout, only to realize that a stray', 'bullet went through a mirror in such', '', \"a way as to look from the camera's\", 'perspective like | got shot in the head', 'through the mirror, so now | have to', 'acknowledge that something that could', 'be reasonably referred to as \"me’ really', 'did die that day, and it\\'s just like \"jfc,', 'gimme a BREAK\"', '', '& fipindustries Follow', '', 'ugh dont even get me started on how', '', 'the other day i tried to sit on the throne', 'of my conquered foe and light a cigar', '', 'to celebrate my victory but the lighter', 'wouldnt work and it had to be lighted by', 'the vizier who used to work for my enemy', 'but that i enlisted to work as a double', 'agent and help me in my coup. that jerk', 'afterwards said with a devilish smile “ill', 'always be at your service my liege\" and i', 'just KNOW that he said that exact same', 'thing to the previous ruler. signifying that', 'my victory was phyrric since i am still', 'caught in an endless cycle of violence', 'and betrayal. that really spoiled the whole', 'mood', '']}, '1csjqqk.jpg': {'contenu': ['beautiful-bi', '', 'Deis-passing', '', 'why is this weak ass font over a lake and some', 'mountains they deserve better', '', 'BBB theskankmonster', '', 'ao Snr ww.', '', 'BISEKUALS APE VALID', '', 'ae', '', 'WBeis-passing', '', \"THIS IS WHAT I'M TALKING ABOUT\", '', '']}, '1cgb099.jpg': {'contenu': ['4 probablybadrpgideas Follow COG', '', \"The Monster Manual but it's blatantly\", 'written by the monsters', '', '>) pegasusdrawnchariots Follow eee', '', 'mimc Mouth perfec t size for put baby in', '', 'to n\\\\ap! inside very Soft and Comfort baby', 'sleep soundly put baby in Mimic Mouth. Put', 'Baby In Mimic Mouth. no problems ever in', 'mimmic mouth because good Shape and', 'Support for baby neck weak of big baby', 'head. Amimic Mouth yes a place for a baby', 'put baby in mimic mouth can trust mimic', 'for giveing good love to baby. friend mimic', '', '51.4K notes fay 1D) (par, SG,', '', '']}, '1ct32gu.jpg': {'contenu': ['ea) cheetahgirlmuscles @ © @) Follow see', 'BMY Sep 28, 2023', '', \"Look. | know it wasn't the best decision | could have made, but | made\", \"it and I'm sticking to it. Besides- *monkey's paw uncurls one finger*\", 'Wait. What do you mean by that. What do you fucking mean by that', '']}, '1clkger.jpg': {'contenu': ['y themegabite eee', '', 'btw the weird noises | make are unrelated to', \"me being a furry I'm just like that\", '', '#furry #adhd', '® Blaze Ww oC', '', 'O notes Aa Os OY', '']}, '1cpp3cq.jpg': {'contenu': ['lord the peasants are so loud today', '', 'pheasants. PHeasants. The birds', '', \"Don't you mean classist Typo, as in discriminating against poor\", 'people, and not classicist, the type of academic who studies antiquity', 'in southern Europe?', '', 'Fucking nerds', 'Youre ¢ WRAT', '{ote neradh', '', 'sex misinterpretation', 'what hé fuck is happening here,', 'jae ARS BOE GR FAG', '', \"don't worry guys I got the\", '', 'fire extinguisher', '', 'Achievement unlocked!', 'Fire post!', '', 'Achievement unlocked', '', 'i HAVE SET THIS POST BACK ON FIRE', 'YOU ASSHOLE WE JUST EXTINGUIBHEDS THAT', '', '']}, '1cicttv.jpg': {'contenu': ['severalowls Follow', '1h ago', '', 'KEEP', 'READING', '', 'Forget Mufasa.', '', 'Remember Mufasa.', 'Forget Mufasa.', '', 'Experimental clickbait lion lobotomy.', '', 'TV & MOVIES', 'Forget Mufasa, The Lion', 'King peaked with this', 'underrated sequel', '', 'Kayla Harrington', '', 'TV & MOVIES', 'Who is Mufasa? The Lion', 'King character explained', '', 'Trudie Graham', '', 'TV & MOVIES', 'Forget Mufasa, The Lion', 'King peaked with this', 'underrated sequel', '', 'Jessica Cullen', '']}, '1cu1sah.jpg': {'contenu': ['robottko:', '', 'shsl-kaiju:', 'slydigged:', '', 'iam the fries at the bottom of', 'the mcdonalds bag', '', 'Maybe you go unnoticed at first,', 'but someone’s always thrilled to', 'find you', '', 'Truly inspirational', '']}, '1cpw4z9.jpg': {'contenu': ['picsthatmakeyougohmm @ ®& Follow', '', '(o)', 'ay teaboot', '', 'Cat POV', '', '']}, '1ce655e.jpg': {'contenu': ['watermelonolemretaw @', '', '30', '', 'Follow', '', 'guys i think i just', '', 'discovered a new', '', 'nant', '', 'ok so you know the /f/ sound is', 'usually formed by putting your lip to', 'your teeth? well a while back i got', 'curious and wondered what would', 'happen if you made a consonant', 'sound with just your teeth touching', \"and it made what i'm pretty sure is a\", \"completely unique sound. like it's\", 'not on the ipa chart or anything. i', 'checked.', '', 'did i actually come up with a new', 'fucking consonant? am i losing my', 'mind?', '', \"(btw if you can't figure out how to\", 'make the sound, just wince and treat', 'that like a consonant.)', '', '#language #languages #conlang', '#conlangs #constructed language', '#constructed languages', '', '#consonant #consonan ... See all', '', '14 notes aA odwg?g', '']}, '1cgqzsm.jpg': {'contenu': ['BB thesillyjester Follow', 'Apr9', '', 'people born in 24 Are 2000 now', '', 'acebutnothtehardwareplace Follow', 'td ago', '', \"This is the smartest dumb thing I've ever read, take my reblog and\", 'crawl back down your well', '', 'coughloop Follow', '4d ago', '', 'sorry my follower', '', 'talks like a', 'redditor', '', '']}, '1ctotdh.jpg': {'contenu': ['ey neptune--e', '', 'everytime i move i crunch like popcorn', '', 'P=) eyedeleter', '', 'and everytime we kiss i swear i could fly', '']}, '1cssauq.jpg': {'contenu': ['{¢ _hellsite-hall-of-fame reblogged', '', 'Ee) 6h ago', '', 'sasukegg-deactivated20180523', '', 'im laughing i went to type heck yes and i typed “heck yeck”', '', '2002-honda-crv Follow', 'May 4, 2013', 'heck yeck', '', '#hellsite hall of fame', '', '158,025 notes a O', '', 'tl', '']}, '1cqrygv.jpg': {'contenu': ['sunshinetheinspiration @ a reblogué', '&@ theconjuredking', '', 'Ilya5h', '', \"shadow27 S'abonner\", '', '9 oct. 2018', '', 'ie witchofprose @', 'fa ll Ya 5h', '', 'This is the FUNNIEST SHIT | HAVE EVER', 'SEEN', '', 'ie: ifelliniovewithjaneway @', '4', '', 'llya5h', '', 'Reblogging for cultural enrichment', '', 'eS scribblecate @', '', 'Mm ilyadh', '', 'bout time | brought back the Laurel and', 'Hardy flex tape-', '', 'eo0e', '', \"“8 knitmeapony & S'abonner\", '', 'm® / janv. 2023', '', 'From The Killers, 1946. A Film Noir Classic', '', '“= theprofessional-amateur @ @@@@', \"=» @ © & S'abonner\", '', '14 janv. 2023', '', 'I’m an archivist, behold my growing', '', 'collection was of old photos mirroring', 'timeless memes I’ve come across at various', 'places I’ve worked.', '', '424,3kn... )A O © BOY', '']}, '1crt6gs.jpg': {'contenu': ['<= hellsite-hall-of-fame', '', '£.', '', '@ gayvian', '', 'hellsite-hall-of-fame reblogged aloe-vera-7', '', 'sally-smithson', 'His name burce banning', '', 'a.', '', 'el dickdefeater', '', 'why are you calling him green shrek?? shrek is', 'already green??', '', 'indoraptorz Follow', '', '— maw mim', '| butte', '', '{ el iguesssoyeaj', '', 'No one is regular, everyone is extraordinary', '', 'q', 'aS', '', '8 inthefallofasparrow Follow', '', 'extraordinary', '', '¢ @ inthefallofasparrow', '©  bunnyramen', '', 'They changed his name to', 'David though', '', 'e@ juneofmykonos', '', 'You spelled Bruce wrong', '', 'extraordinary', '', 'Bruce)', '', 'Fixed', '', 'e inthefallofasparrow', '', 'Z fruitypebble', '', \"Um... | think it's spelled\", 'boruto sweaty', '', 'extraordinary', '', 'Bruce)', 'el unfortunateturnip', 'This post is a train wreck.', '', 've inthefallofasparrow', '', 'as ee biecinian', '', 'sure', \"oh look, a plane he's too tall\", '', 'oxtrcordinary', '', 'Bruce)', '', 'a) gaymoods Follow', '', 'Why do you need to put ordinary? Shouldn’t it', 'just be the words without the adjective?', '', '¢ @ inthefallofasparrow', '', '#hellsite hall of fame', '', '324,334 notes (3', '', 'tl', '']}, '1ckxtsg.jpg': {'contenu': ['BaZ celestial-fang Follow', 'Re. Mar 29', '', '3 components of worldbuilding:', '1. The author’s kinks', '2. The author’s power fantasy', '', '3. The author’s political agenda', '', 'Plot and logic optional', '', '9,114 notes', '']}, '1clqgwh.jpg': {'contenu': ['coco6420 @ \"Ss eee', '', 'bro ur interupting my \"pacing around pointlessly and', 'listening to music\" time can u not', '']}, '1cm30l9.jpg': {'contenu': ['radiofreederry Follow', '', \"THERE'S NOTHING VY SHOW\", 'EXCITING ABOUT us SOME', '', 'GOOD, SOLID PERVERTS', '+4', '', 'CITIZENS /', '', '% athena-cat-wizard-official Follow', '', 'me logging on to tumblr', '']}}\n"
     ]
    }
   ],
   "source": [
    "dico = {}\n",
    "\n",
    "for file_path in glob.glob(os.path.join(data_path, '*')):\n",
    "    texte = pytesseract.image_to_string(Image.open(file_path))\n",
    "    file_name = os.path.basename(file_path)\n",
    "    dico[file_name] = { 'contenu' : [line for line in texte.split('\\n')] }\n",
    "print(dico)"
   ]
  },
  {
   "cell_type": "code",
   "execution_count": 51,
   "metadata": {},
   "outputs": [
    {
     "name": "stdout",
     "output_type": "stream",
     "text": [
      "                                               1ctjs8z.jpg  \\\n",
      "contenu  [r ] eldritchbauble Follow _, m Jani6, , You'r...   \n",
      "\n",
      "                                               1ch543a.jpg  \\\n",
      "contenu  [f mymedlife Follow eee, , WARNING:, , Endosco...   \n",
      "\n",
      "                                               1cln7bm.jpg  \\\n",
      "contenu  [Fi toddchavezwatchescartoons, ef Apr 18, 2024...   \n",
      "\n",
      "                                               1cqk03b.jpg  \\\n",
      "contenu  [& junk-thunder Follow eee, AM, , \"is sex with...   \n",
      "\n",
      "                                               1ckz78p.jpg  \\\n",
      "contenu  [as danshive nes, Sep 16, 2023, | enjoy adding...   \n",
      "\n",
      "                                               1cs4i1k.jpg  \\\n",
      "contenu  [& monicam, , my first attempt at a, creepypas...   \n",
      "\n",
      "                                               1cn1et3.jpg  \\\n",
      "contenu  [vandigo:, orgasham, methiemore, , orgasham, m...   \n",
      "\n",
      "                                               1ciafn0.jpg  \\\n",
      "contenu  [y) mack-anthology-mp3 Follow eee, Apr 8, , yo...   \n",
      "\n",
      "                                               1cluzqe.jpg  \\\n",
      "contenu  [2 ) appalachiananarchist Follow, Mw,\" Aprto, ...   \n",
      "\n",
      "                                               1cejcic.jpg  ...  \\\n",
      "contenu  [Gay & Lesbian Pride Parade, Seattle, Washingt...  ...   \n",
      "\n",
      "                                               1cpw4z9.jpg  \\\n",
      "contenu  [picsthatmakeyougohmm @ ®& Follow, , (o), ay t...   \n",
      "\n",
      "                                               1ce655e.jpg  \\\n",
      "contenu  [watermelonolemretaw @, , 30, , Follow, , guys...   \n",
      "\n",
      "                                               1cgqzsm.jpg  \\\n",
      "contenu  [BB thesillyjester Follow, Apr9, , people born...   \n",
      "\n",
      "                                               1ctotdh.jpg  \\\n",
      "contenu  [ey neptune--e, , everytime i move i crunch li...   \n",
      "\n",
      "                                               1cssauq.jpg  \\\n",
      "contenu  [{¢ _hellsite-hall-of-fame reblogged, , Ee) 6h...   \n",
      "\n",
      "                                               1cqrygv.jpg  \\\n",
      "contenu  [sunshinetheinspiration @ a reblogué, &@ theco...   \n",
      "\n",
      "                                               1crt6gs.jpg  \\\n",
      "contenu  [<= hellsite-hall-of-fame, , £., , @ gayvian, ...   \n",
      "\n",
      "                                               1ckxtsg.jpg  \\\n",
      "contenu  [BaZ celestial-fang Follow, Re. Mar 29, , 3 co...   \n",
      "\n",
      "                                               1clqgwh.jpg  \\\n",
      "contenu  [coco6420 @ \"Ss eee, , bro ur interupting my \"...   \n",
      "\n",
      "                                               1cm30l9.jpg  \n",
      "contenu  [radiofreederry Follow, , THERE'S NOTHING VY S...  \n",
      "\n",
      "[1 rows x 93 columns]\n"
     ]
    }
   ],
   "source": [
    "df = pd.DataFrame(dico)\n",
    "\n",
    "df.to_parquet(\"data.parquet\", engine=\"pyarrow\")\n",
    "\n",
    "# Lire un fichier Parquet\n",
    "df = pd.read_parquet('data.parquet', engine=\"pyarrow\")\n",
    "\n",
    "print(df)\n"
   ]
  },
  {
   "cell_type": "markdown",
   "metadata": {},
   "source": [
    "Lancer l'annotation morphosyntaxique des données textuelles "
   ]
  },
  {
   "cell_type": "markdown",
   "metadata": {},
   "source": [
    "Visualiser les statistiques de son corpus (longueur des textes / mots fréquents (zipf) / statistiques adaptées à notre tâche)"
   ]
  },
  {
   "cell_type": "markdown",
   "metadata": {},
   "source": [
    "\n",
    "🧼Nettoyer son corpus🧼\n",
    "📏Métriques d'évaluation📏\n",
    "\n",
    "\n",
    "    Mesurer la correlation entre deux variables de votre corpus (ex. longueur des textes/longueur des résumés) a. Comment augmenter la p-value si elle n'est pas significative ?\n",
    "\n",
    "    Eliminer les données abérrantes\n",
    "\n",
    "    Augmenter ses données\n",
    "\n",
    "    Splitter son corpus en test et train\n",
    "\n",
    "    Evaluer son corpus avec les métriques adaptées\n",
    "\n",
    "    Proposer une métrique pour son corpus autre que les métriques de la tâche\n",
    "\n"
   ]
  },
  {
   "cell_type": "markdown",
   "metadata": {},
   "source": [
    "     \n",
    "\n",
    "N'oubliez pas pour l'évaluation de votre repo, je vais surtout regarder si vous vous en êtes tenus aux points bonnes pratiques\n",
    "\n",
    "    une bonne organisation de votre répertoire de travail\n",
    "    les commit conventionnels\n",
    "    les docstrings\n",
    "    les conventions de nommage\n",
    "\n"
   ]
  }
 ],
 "metadata": {
  "kernelspec": {
   "display_name": "corpusvenv",
   "language": "python",
   "name": "python3"
  },
  "language_info": {
   "codemirror_mode": {
    "name": "ipython",
    "version": 3
   },
   "file_extension": ".py",
   "mimetype": "text/x-python",
   "name": "python",
   "nbconvert_exporter": "python",
   "pygments_lexer": "ipython3",
   "version": "3.11.4"
  }
 },
 "nbformat": 4,
 "nbformat_minor": 2
}
